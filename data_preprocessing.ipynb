{
 "cells": [
  {
   "cell_type": "code",
   "execution_count": null,
   "id": "6c8431a2",
   "metadata": {},
   "outputs": [],
   "source": [
    "import time\n",
    "import random\n",
    "import time\n",
    "import requests \n",
    "import re\n",
    "import logging\n",
    "import subprocess\n",
    "from subprocess import Popen\n",
    "from sys import platform\n",
    "import os, sys\n",
    "import logging\n",
    "import json\n",
    "import threading\n",
    "import numpy as np\n",
    "import pandas as pd\n",
    "\n",
    "import subprocess\n",
    "import time\n",
    "import signal\n",
    "from typing import Dict\n",
    "\n",
    "from netunicorn.base.architecture import Architecture\n",
    "from netunicorn.base.nodes import Node\n",
    "from netunicorn.base.task import Success, Failure, Task, TaskDispatcher\n",
    "\n",
    "\n",
    "from netunicorn.client.remote import RemoteClient, RemoteClientException\n",
    "from netunicorn.base import Experiment, ExperimentStatus, Pipeline\n",
    "from netunicorn.library.tasks.basic import SleepTask\n",
    "from netunicorn.library.tasks.measurements.ookla_speedtest import SpeedTest\n",
    "from netunicorn.library.tasks.measurements.ping import Ping\n",
    "from netunicorn.base.architecture import Architecture\n",
    "from netunicorn.base.nodes import Node\n",
    "from netunicorn.base.task import Failure, Task, TaskDispatcher\n",
    "from netunicorn.base import Result, Failure, Success, Task, TaskDispatcher\n",
    "from netunicorn.base.architecture import Architecture\n",
    "from netunicorn.base.nodes import Node\n",
    "\n",
    "from typing import Dict\n",
    "from typing import Optional\n",
    "from enum import IntEnum\n",
    "from datetime import datetime\n",
    "\n",
    "from returns.pipeline import is_successful\n",
    "from returns.result import Failure\n",
    "\n",
    "from netunicorn.client.remote import RemoteClient, RemoteClientException\n",
    "from netunicorn.base import Experiment, ExperimentStatus, Pipeline\n",
    "from netunicorn.library.tasks.capture.tshark import StartCapture, StopCapture\n",
    "#from netunicorn.library.tasks.capture.tcpdump import StartCapture, StopNamedCapture\n",
    "from netunicorn.library.tasks.upload.fileio import UploadToFileIO\n",
    "from netunicorn.library.tasks.upload.webdav import UploadToWebDav\n",
    "from netunicorn.library.tasks.basic import SleepTask\n",
    "from netunicorn.library.tasks.measurements.ookla_speedtest import SpeedTest\n",
    "from netunicorn.library.tasks.video_watchers.youtube_watcher import WatchYouTubeVideo\n",
    "from netunicorn.library.tasks.video_watchers.vimeo_watcher import WatchVimeoVideo\n",
    "from netunicorn.library.tasks.video_watchers.twitch_watcher import WatchTwitchStream\n",
    "\n",
    "from netunicorn.base import DockerImage\n",
    "\n",
    "from scapy.all import *\n",
    "import pandas as pd\n",
    "import numpy as np\n",
    "import binascii\n",
    "import seaborn as sns\n",
    "sns.set(color_codes=True)\n",
    "%matplotlib inline\n",
    "pd.set_option('display.max_rows', None)"
   ]
  },
  {
   "cell_type": "markdown",
   "id": "af6c5003",
   "metadata": {},
   "source": [
    "# Load Your Data"
   ]
  },
  {
   "cell_type": "code",
   "execution_count": null,
   "id": "41fcc0a2",
   "metadata": {},
   "outputs": [],
   "source": [
    "twitch_csvs = ['data/twitch/path_to_your_csv']"
   ]
  },
  {
   "cell_type": "markdown",
   "id": "5a3c46bf",
   "metadata": {},
   "source": [
    "# Convert Data Types and Filter for Flows that Contain the Local IP"
   ]
  },
  {
   "cell_type": "code",
   "execution_count": null,
   "id": "330d6310",
   "metadata": {},
   "outputs": [],
   "source": [
    "import ipaddress\n",
    "\n",
    "# Function to convert IP to integer\n",
    "def ip_to_int(ip):\n",
    "    try:\n",
    "        return int(ipaddress.ip_address(ip))\n",
    "    except ValueError:\n",
    "        return None\n",
    "\n",
    "youtube_packets = pd.DataFrame()\n",
    "for v in youtube_csvs:\n",
    "    # Read in CSV\n",
    "    curr_df = pd.read_csv(v,\n",
    "                          sep='\\t',\n",
    "                          header=None,\n",
    "                          dtype={\n",
    "                              0: 'float',\n",
    "                              1: 'string',\n",
    "                              2: 'Int64',\n",
    "                              3: 'Int64',\n",
    "                              4: 'string',\n",
    "                              5: 'Int64',\n",
    "                              6: 'Int64',\n",
    "                              7: 'string',\n",
    "                              8: 'string',\n",
    "                              9: 'string',\n",
    "                              10: 'string',\n",
    "                              11: 'Int64',\n",
    "                              12: 'Int64',\n",
    "                              13: 'Int64',\n",
    "                              14: 'Int64',\n",
    "                              15: 'Int64',\n",
    "                              16: 'float',\n",
    "                              17: 'Int64',\n",
    "                              18: 'Int64'\n",
    "                          })\n",
    "    \n",
    "    curr_df = curr_df.rename(columns={\n",
    "        0: 'frame_timestamp',\n",
    "        1: 'ip_src',\n",
    "        2: 'tcp_srcport',\n",
    "        3: 'udp_srcport',\n",
    "        4: 'ip_dst',\n",
    "        5: 'tcp_dstport',\n",
    "        6: 'udp_dstport',\n",
    "        7: 'ip_len',\n",
    "        8: 'ip_header_len',\n",
    "        9: 'protocol',\n",
    "        10: 'tcp_flags',\n",
    "        11: 'tcp_seq_num',\n",
    "        12: 'tcp_ack_num',\n",
    "        13: 'tcp_header_len',\n",
    "        14: 'udp_len',\n",
    "        15: 'tcp_retransmission',\n",
    "        16: 'rtt',\n",
    "        17: 'seq',\n",
    "        18: 'ack'\n",
    "    })\n",
    "    \n",
    "    # Combine src and dst ports\n",
    "    curr_df['src_port'] = curr_df['tcp_srcport'].combine_first(curr_df['udp_srcport'])\n",
    "    curr_df['dst_port'] = curr_df['tcp_dstport'].combine_first(curr_df['udp_dstport'])\n",
    "\n",
    "    # Drop original TCP and UDP port columns\n",
    "    curr_df = curr_df.drop(columns=['tcp_srcport', 'udp_srcport', 'tcp_dstport', 'udp_dstport'])\n",
    "\n",
    "    # Get basename of file\n",
    "    basename = v.split('/')[-1].split('.')[0]\n",
    "    curr_df['file'] = basename\n",
    "    \n",
    "    # Convert IPs to integers\n",
    "    curr_df['ip_src_int'] = curr_df['ip_src'].apply(ip_to_int)\n",
    "    curr_df['ip_dst_int'] = curr_df['ip_dst'].apply(ip_to_int)\n",
    "    \n",
    "    curr_df = curr_df.drop(columns=['ip_src', 'ip_dst']).rename(columns={\n",
    "        'ip_src_int': 'ip_src',\n",
    "        'ip_dst_int': 'ip_dst'\n",
    "    })\n",
    "    \n",
    "    # Append packets to current DF\n",
    "    ttv = pd.concat([youtube_packets, curr_df], ignore_index=True)"
   ]
  },
  {
   "cell_type": "code",
   "execution_count": null,
   "id": "23521ba2",
   "metadata": {},
   "outputs": [],
   "source": [
    "ttv.head()"
   ]
  },
  {
   "cell_type": "code",
   "execution_count": null,
   "id": "2059e0ea",
   "metadata": {},
   "outputs": [],
   "source": [
    "# Function to convert IP to integer\n",
    "def ip_to_int(ip):\n",
    "    try:\n",
    "        return int(ipaddress.ip_address(ip))\n",
    "    except ValueError:\n",
    "        return None"
   ]
  },
  {
   "cell_type": "markdown",
   "id": "37ee84ea",
   "metadata": {},
   "source": [
    "# Use the IP's below if you are using the data we provided. Use the 172.... address for the netUnicorn data and the 52... address for the self collected _data. Otherwise, use your own!"
   ]
  },
  {
   "cell_type": "code",
   "execution_count": null,
   "id": "5ab50e73",
   "metadata": {},
   "outputs": [],
   "source": [
    "all_packets = ttv.copy()\n",
    "client_ip = ip_to_int(\"YOUR IP\")\n",
    "#User the IP's below if you are using the data we provided. Use the 172.... address for the netUnicorn data and thee 52... address for the self collected _data. \n",
    "#client_ip = ip_to_int(\"172.17.0.2\")\n",
    "#client_ip = ip_to_int(\"52.223.247.239\")\n",
    "client_condition = (all_packets['ip_src'] == client_ip) | (all_packets['ip_dst'] == client_ip)\n",
    "\n",
    "all_packets = all_packets[client_condition]\n",
    "\n",
    "# Setting the correct data type\n",
    "all_packets[\"protocol\"] = all_packets[\"protocol\"].astype(int)\n",
    "all_packets['udp_len'] = all_packets['udp_len'].fillna(0).astype(int)\n",
    "all_packets['ip_header_len'] = all_packets['ip_header_len'].fillna(0).astype(int)\n",
    "all_packets['ip_len'] = all_packets['ip_len'].fillna(0).astype(int)\n",
    "all_packets['tcp_header_len'] = all_packets['tcp_header_len'].fillna(0).astype(int)\n",
    "all_packets['rtt'] = all_packets['rtt'].fillna(0).astype(float)\n",
    "all_packets['tcp_retransmission'] = all_packets['tcp_retransmission'].fillna(0).astype(int)"
   ]
  },
  {
   "cell_type": "code",
   "execution_count": null,
   "id": "7962edf7",
   "metadata": {},
   "outputs": [],
   "source": [
    "all_packets.head()"
   ]
  },
  {
   "cell_type": "markdown",
   "id": "4b2e82e4",
   "metadata": {},
   "source": [
    "# Filter for TCP Traffic"
   ]
  },
  {
   "cell_type": "code",
   "execution_count": null,
   "id": "4887d360",
   "metadata": {},
   "outputs": [],
   "source": [
    "tcp_protocol_condition = all_packets['protocol'] == 6\n",
    "tcp_packets = all_packets[tcp_protocol_condition].copy()\n",
    "\n",
    "\n",
    "\n",
    "tcp_packets['tcp_len'] = tcp_packets['ip_len'].astype('Int64') - (tcp_packets['ip_header_len'].astype('Int64') + tcp_packets['tcp_header_len'].astype('Int64'))\n",
    "tcp_packets['udp_len'] = 0  # No UDP length for TCP packets\n",
    "\n",
    "tcp_packets = tcp_packets.sort_index()"
   ]
  },
  {
   "cell_type": "code",
   "execution_count": null,
   "id": "d862997a",
   "metadata": {},
   "outputs": [],
   "source": [
    "test = tcp_packets.copy()"
   ]
  },
  {
   "cell_type": "markdown",
   "id": "45baa6a7",
   "metadata": {},
   "source": [
    "# As Twitch uses HLS to stream video, organize data into chunks based on 4 Mbps - 8 Mbps estimates"
   ]
  },
  {
   "cell_type": "code",
   "execution_count": null,
   "id": "083d7f1a",
   "metadata": {},
   "outputs": [],
   "source": [
    "import random \n",
    "\n",
    "current_chunk = 1\n",
    "threshold_mbps = random.randint(4,8)\n",
    "current_data_size = 0\n",
    "start_timestamp = test.iloc[0]['frame_timestamp']\n",
    "\n",
    "for i, row in test.iterrows():\n",
    "    frame_timestamp = row['frame_timestamp']\n",
    "    ip_len = row['ip_len']\n",
    "    \n",
    "    # Calculate the time difference in seconds between the current frame and the previous frame\n",
    "    time_diff = (frame_timestamp - start_timestamp) / 1e9  # Convert to seconds\n",
    "    \n",
    "    if time_diff > 0:  # Prevent division by zero\n",
    "        data_rate = (ip_len * 8) / (time_diff * 1e6)  # Calculate Mbps (Mbps = (Bytes * 8) / time_seconds / 10^6)\n",
    "    else:\n",
    "        data_rate = 0\n",
    "    \n",
    "    # Add the current row's size to the chunk\n",
    "    current_data_size += ip_len * 8  # In bits\n",
    "    \n",
    "    # If the data rate threshold is reached, create a new chunk\n",
    "    if current_data_size >= threshold_mbps * 1e6:  # Compare in bits\n",
    "        threshold_mbps = random.randint(4, 8)  # Pick a new random threshold\n",
    "        current_data_size = 0  # Reset the data size for the next chunk\n",
    "        current_chunk += 1  # Increment chunk number\n",
    "        \n",
    "    test.at[i, 'chunk'] = current_chunk\n",
    "    start_timestamp = frame_timestamp \n",
    "    "
   ]
  },
  {
   "cell_type": "markdown",
   "id": "6db68f14",
   "metadata": {},
   "source": [
    "# Group data based on Chunk."
   ]
  },
  {
   "cell_type": "code",
   "execution_count": null,
   "id": "347aa405",
   "metadata": {},
   "outputs": [],
   "source": [
    "test_grouped = test.groupby('chunk').agg(\n",
    "    total_tcp_len=('tcp_len', 'sum'),\n",
    "    rtt=('rtt', 'sum'),\n",
    "    dropped_packets=('tcp_retransmission', 'sum'),\n",
    "    time_chunk_sent=('frame_timestamp', 'min'),\n",
    "    download_duration=('frame_timestamp', lambda x: x.max() - x.min())\n",
    ").reset_index()\n"
   ]
  },
  {
   "cell_type": "code",
   "execution_count": null,
   "id": "18608f9c",
   "metadata": {},
   "outputs": [],
   "source": [
    "test_grouped.head()"
   ]
  },
  {
   "cell_type": "code",
   "execution_count": null,
   "id": "4a13fadd",
   "metadata": {},
   "outputs": [],
   "source": [
    "print(test_grouped['total_tcp_len'].mean())\n",
    "print(test_grouped['total_tcp_len'].std())"
   ]
  },
  {
   "cell_type": "code",
   "execution_count": null,
   "id": "b1fec3cd",
   "metadata": {},
   "outputs": [],
   "source": [
    "test_grouped['rtt'] = test_grouped['rtt'] * 1000\n",
    "test_grouped['throughput'] = ((test_grouped['total_tcp_len'] * 8) / test_grouped['download_duration']) / 1000000\n",
    "test_grouped['bytes_per_transmission_time'] = test_grouped['total_tcp_len'] / test_grouped['rtt']"
   ]
  },
  {
   "cell_type": "code",
   "execution_count": null,
   "id": "a282e139",
   "metadata": {},
   "outputs": [],
   "source": [
    "test_grouped.head()"
   ]
  },
  {
   "cell_type": "markdown",
   "id": "d33a3784",
   "metadata": {},
   "source": [
    "# Create a CSV of your Data"
   ]
  },
  {
   "cell_type": "code",
   "execution_count": null,
   "id": "86e6b782",
   "metadata": {},
   "outputs": [],
   "source": [
    "test_grouped.to_csv('data/test_data/your_data.csv', index=False)"
   ]
  }
 ],
 "metadata": {
  "kernelspec": {
   "display_name": "Python 3 (ipykernel)",
   "language": "python",
   "name": "python3"
  },
  "language_info": {
   "codemirror_mode": {
    "name": "ipython",
    "version": 3
   },
   "file_extension": ".py",
   "mimetype": "text/x-python",
   "name": "python",
   "nbconvert_exporter": "python",
   "pygments_lexer": "ipython3",
   "version": "3.10.12"
  }
 },
 "nbformat": 4,
 "nbformat_minor": 5
}
